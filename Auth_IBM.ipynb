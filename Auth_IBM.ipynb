{
 "cells": [
  {
   "cell_type": "code",
   "execution_count": 1,
   "id": "d4cf5fb3",
   "metadata": {},
   "outputs": [],
   "source": [
    "import numpy as np\n",
    "import pandas as pd\n",
    "from sklearn.model_selection import train_test_split\n",
    "from sklearn.ensemble import RandomForestClassifier\n",
    "from sklearn.metrics import accuracy_score\n",
    "import pickle\n",
    "\n",
    "\n",
    "class IntelligentMFA:\n",
    "\n",
    "    def collect_and_preprocess_data(self, authentication_data):\n",
    "       # Collect and preprocess authentication data\n",
    "        authentication_data = pd.get_dummies(authentication_data, columns = ['Device', 'Mouse_keyboard actions 1' ,'Mouse_keyboard actions 2', 'Mouse_keyboard actions 3'])\n",
    "        self.X= authentication_data.drop(['Label'], axis=1)# Features data (e.g., typing patterns, mouse movements)\n",
    "        self.y = authentication_data['Label']# Labels (e.g., authorized or unauthorized)\n",
    "        \n",
    "    def train_machine_learning_models(self):\n",
    "        # Split data into training and testing sets\n",
    "        X_train, X_test, y_train, y_test = train_test_split(self.X, self.y, test_size=0.2, random_state=42)\n",
    "        # Train machine learning models for each authentication factor\n",
    "        model = RandomForestClassifier()  # Example: Random Forest classifier\n",
    "        model.fit(X_train, y_train)\n",
    "        y_pred_train = model.predict(X_train)\n",
    "        print(\"Train accuracy\",accuracy_score(y_train, y_pred_train))  \n",
    "        y_pred_test=model.predict(X_test)\n",
    "        print(\"Test accuracy\" ,accuracy_score(y_test, y_pred_test)) \n",
    "        pickle.dump(model, open('model.pkl', 'wb'))\n",
    "\n"
   ]
  },
  {
   "cell_type": "code",
   "execution_count": 2,
   "id": "ace29f71",
   "metadata": {},
   "outputs": [
    {
     "name": "stdout",
     "output_type": "stream",
     "text": [
      "Train accuracy 1.0\n",
      "Test accuracy 1.0\n"
     ]
    }
   ],
   "source": [
    "# Example usage:\n",
    "\n",
    "# Instantiate IntelligentMFA class\n",
    "intelligent_mfa = IntelligentMFA()\n",
    "\n",
    "# Stage 1: Collect and preprocess data\n",
    "authentication_data= pd.read_excel('Sampledata.xlsx')\n",
    "intelligent_mfa.collect_and_preprocess_data(authentication_data)\n",
    "\n",
    "#Stage 2: Train the model and save weights \n",
    "intelligent_mfa.train_machine_learning_models()"
   ]
  },
  {
   "cell_type": "code",
   "execution_count": 4,
   "id": "d94c22c1",
   "metadata": {},
   "outputs": [],
   "source": [
    "pickled_model = pickle.load(open('model.pkl', 'rb'))\n"
   ]
  },
  {
   "cell_type": "code",
   "execution_count": null,
   "id": "6710491d",
   "metadata": {},
   "outputs": [],
   "source": []
  }
 ],
 "metadata": {
  "kernelspec": {
   "display_name": "Python 3 (ipykernel)",
   "language": "python",
   "name": "python3"
  },
  "language_info": {
   "codemirror_mode": {
    "name": "ipython",
    "version": 3
   },
   "file_extension": ".py",
   "mimetype": "text/x-python",
   "name": "python",
   "nbconvert_exporter": "python",
   "pygments_lexer": "ipython3",
   "version": "3.9.13"
  }
 },
 "nbformat": 4,
 "nbformat_minor": 5
}
